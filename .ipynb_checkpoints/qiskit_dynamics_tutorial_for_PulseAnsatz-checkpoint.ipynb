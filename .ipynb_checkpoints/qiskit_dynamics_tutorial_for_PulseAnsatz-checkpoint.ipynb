{
 "cells": [
  {
   "cell_type": "code",
   "execution_count": 1,
   "metadata": {
    "colab": {
     "base_uri": "https://localhost:8080/"
    },
    "id": "brjggDvAH8MZ",
    "outputId": "cf5a1fa7-f69b-4552-fc03-c181d71810e3"
   },
   "outputs": [
    {
     "name": "stdout",
     "output_type": "stream",
     "text": [
      "Collecting qiskit\n",
      "  Downloading qiskit-0.44.1-py3-none-any.whl (8.2 kB)\n",
      "Collecting qiskit-terra==0.25.1 (from qiskit)\n",
      "  Downloading qiskit_terra-0.25.1-cp38-abi3-manylinux_2_17_x86_64.manylinux2014_x86_64.whl (6.1 MB)\n",
      "\u001b[2K     \u001b[90m━━━━━━━━━━━━━━━━━━━━━━━━━━━━━━━━━━━━━━━━\u001b[0m \u001b[32m6.1/6.1 MB\u001b[0m \u001b[31m14.0 MB/s\u001b[0m eta \u001b[36m0:00:00\u001b[0m\n",
      "\u001b[?25hCollecting rustworkx>=0.13.0 (from qiskit-terra==0.25.1->qiskit)\n",
      "  Downloading rustworkx-0.13.2-cp310-cp310-manylinux_2_17_x86_64.manylinux2014_x86_64.whl (2.0 MB)\n",
      "\u001b[2K     \u001b[90m━━━━━━━━━━━━━━━━━━━━━━━━━━━━━━━━━━━━━━━━\u001b[0m \u001b[32m2.0/2.0 MB\u001b[0m \u001b[31m17.4 MB/s\u001b[0m eta \u001b[36m0:00:00\u001b[0m\n",
      "\u001b[?25hRequirement already satisfied: numpy>=1.17 in /usr/local/lib/python3.10/dist-packages (from qiskit-terra==0.25.1->qiskit) (1.23.5)\n",
      "Collecting ply>=3.10 (from qiskit-terra==0.25.1->qiskit)\n",
      "  Downloading ply-3.11-py2.py3-none-any.whl (49 kB)\n",
      "\u001b[2K     \u001b[90m━━━━━━━━━━━━━━━━━━━━━━━━━━━━━━━━━━━━━━━━\u001b[0m \u001b[32m49.6/49.6 kB\u001b[0m \u001b[31m3.2 MB/s\u001b[0m eta \u001b[36m0:00:00\u001b[0m\n",
      "\u001b[?25hRequirement already satisfied: psutil>=5 in /usr/local/lib/python3.10/dist-packages (from qiskit-terra==0.25.1->qiskit) (5.9.5)\n",
      "Requirement already satisfied: scipy>=1.5 in /usr/local/lib/python3.10/dist-packages (from qiskit-terra==0.25.1->qiskit) (1.11.3)\n",
      "Requirement already satisfied: sympy>=1.3 in /usr/local/lib/python3.10/dist-packages (from qiskit-terra==0.25.1->qiskit) (1.12)\n",
      "Collecting dill>=0.3 (from qiskit-terra==0.25.1->qiskit)\n",
      "  Downloading dill-0.3.7-py3-none-any.whl (115 kB)\n",
      "\u001b[2K     \u001b[90m━━━━━━━━━━━━━━━━━━━━━━━━━━━━━━━━━━━━━━\u001b[0m \u001b[32m115.3/115.3 kB\u001b[0m \u001b[31m13.5 MB/s\u001b[0m eta \u001b[36m0:00:00\u001b[0m\n",
      "\u001b[?25hRequirement already satisfied: python-dateutil>=2.8.0 in /usr/local/lib/python3.10/dist-packages (from qiskit-terra==0.25.1->qiskit) (2.8.2)\n",
      "Collecting stevedore>=3.0.0 (from qiskit-terra==0.25.1->qiskit)\n",
      "  Downloading stevedore-5.1.0-py3-none-any.whl (49 kB)\n",
      "\u001b[2K     \u001b[90m━━━━━━━━━━━━━━━━━━━━━━━━━━━━━━━━━━━━━━━━\u001b[0m \u001b[32m49.6/49.6 kB\u001b[0m \u001b[31m5.3 MB/s\u001b[0m eta \u001b[36m0:00:00\u001b[0m\n",
      "\u001b[?25hCollecting symengine<0.10,>=0.9 (from qiskit-terra==0.25.1->qiskit)\n",
      "  Downloading symengine-0.9.2-cp310-cp310-manylinux2010_x86_64.whl (37.5 MB)\n",
      "\u001b[2K     \u001b[90m━━━━━━━━━━━━━━━━━━━━━━━━━━━━━━━━━━━━━━━━\u001b[0m \u001b[32m37.5/37.5 MB\u001b[0m \u001b[31m14.0 MB/s\u001b[0m eta \u001b[36m0:00:00\u001b[0m\n",
      "\u001b[?25hRequirement already satisfied: typing-extensions in /usr/local/lib/python3.10/dist-packages (from qiskit-terra==0.25.1->qiskit) (4.5.0)\n",
      "Requirement already satisfied: six>=1.5 in /usr/local/lib/python3.10/dist-packages (from python-dateutil>=2.8.0->qiskit-terra==0.25.1->qiskit) (1.16.0)\n",
      "Collecting pbr!=2.1.0,>=2.0.0 (from stevedore>=3.0.0->qiskit-terra==0.25.1->qiskit)\n",
      "  Downloading pbr-5.11.1-py2.py3-none-any.whl (112 kB)\n",
      "\u001b[2K     \u001b[90m━━━━━━━━━━━━━━━━━━━━━━━━━━━━━━━━━━━━━━\u001b[0m \u001b[32m112.7/112.7 kB\u001b[0m \u001b[31m11.8 MB/s\u001b[0m eta \u001b[36m0:00:00\u001b[0m\n",
      "\u001b[?25hRequirement already satisfied: mpmath>=0.19 in /usr/local/lib/python3.10/dist-packages (from sympy>=1.3->qiskit-terra==0.25.1->qiskit) (1.3.0)\n",
      "Installing collected packages: ply, symengine, rustworkx, pbr, dill, stevedore, qiskit-terra, qiskit\n",
      "Successfully installed dill-0.3.7 pbr-5.11.1 ply-3.11 qiskit-0.44.1 qiskit-terra-0.25.1 rustworkx-0.13.2 stevedore-5.1.0 symengine-0.9.2\n",
      "Collecting qiskit_dynamics\n",
      "  Downloading qiskit_dynamics-0.4.2-py3-none-any.whl (187 kB)\n",
      "\u001b[2K     \u001b[90m━━━━━━━━━━━━━━━━━━━━━━━━━━━━━━━━━━━━━━━\u001b[0m \u001b[32m187.7/187.7 kB\u001b[0m \u001b[31m3.6 MB/s\u001b[0m eta \u001b[36m0:00:00\u001b[0m\n",
      "\u001b[?25hRequirement already satisfied: numpy>=1.17 in /usr/local/lib/python3.10/dist-packages (from qiskit_dynamics) (1.23.5)\n",
      "Requirement already satisfied: scipy>=1.4 in /usr/local/lib/python3.10/dist-packages (from qiskit_dynamics) (1.11.3)\n",
      "Requirement already satisfied: matplotlib>=3.0 in /usr/local/lib/python3.10/dist-packages (from qiskit_dynamics) (3.7.1)\n",
      "Requirement already satisfied: qiskit-terra>=0.23.0 in /usr/local/lib/python3.10/dist-packages (from qiskit_dynamics) (0.25.1)\n",
      "Collecting multiset>=3.0.1 (from qiskit_dynamics)\n",
      "  Downloading multiset-3.0.1-py2.py3-none-any.whl (9.6 kB)\n",
      "Requirement already satisfied: sympy>=1.12 in /usr/local/lib/python3.10/dist-packages (from qiskit_dynamics) (1.12)\n",
      "Requirement already satisfied: contourpy>=1.0.1 in /usr/local/lib/python3.10/dist-packages (from matplotlib>=3.0->qiskit_dynamics) (1.1.1)\n",
      "Requirement already satisfied: cycler>=0.10 in /usr/local/lib/python3.10/dist-packages (from matplotlib>=3.0->qiskit_dynamics) (0.12.0)\n",
      "Requirement already satisfied: fonttools>=4.22.0 in /usr/local/lib/python3.10/dist-packages (from matplotlib>=3.0->qiskit_dynamics) (4.43.0)\n",
      "Requirement already satisfied: kiwisolver>=1.0.1 in /usr/local/lib/python3.10/dist-packages (from matplotlib>=3.0->qiskit_dynamics) (1.4.5)\n",
      "Requirement already satisfied: packaging>=20.0 in /usr/local/lib/python3.10/dist-packages (from matplotlib>=3.0->qiskit_dynamics) (23.1)\n",
      "Requirement already satisfied: pillow>=6.2.0 in /usr/local/lib/python3.10/dist-packages (from matplotlib>=3.0->qiskit_dynamics) (9.4.0)\n",
      "Requirement already satisfied: pyparsing>=2.3.1 in /usr/local/lib/python3.10/dist-packages (from matplotlib>=3.0->qiskit_dynamics) (3.1.1)\n",
      "Requirement already satisfied: python-dateutil>=2.7 in /usr/local/lib/python3.10/dist-packages (from matplotlib>=3.0->qiskit_dynamics) (2.8.2)\n",
      "Requirement already satisfied: rustworkx>=0.13.0 in /usr/local/lib/python3.10/dist-packages (from qiskit-terra>=0.23.0->qiskit_dynamics) (0.13.2)\n",
      "Requirement already satisfied: ply>=3.10 in /usr/local/lib/python3.10/dist-packages (from qiskit-terra>=0.23.0->qiskit_dynamics) (3.11)\n",
      "Requirement already satisfied: psutil>=5 in /usr/local/lib/python3.10/dist-packages (from qiskit-terra>=0.23.0->qiskit_dynamics) (5.9.5)\n",
      "Requirement already satisfied: dill>=0.3 in /usr/local/lib/python3.10/dist-packages (from qiskit-terra>=0.23.0->qiskit_dynamics) (0.3.7)\n",
      "Requirement already satisfied: stevedore>=3.0.0 in /usr/local/lib/python3.10/dist-packages (from qiskit-terra>=0.23.0->qiskit_dynamics) (5.1.0)\n",
      "Requirement already satisfied: symengine<0.10,>=0.9 in /usr/local/lib/python3.10/dist-packages (from qiskit-terra>=0.23.0->qiskit_dynamics) (0.9.2)\n",
      "Requirement already satisfied: typing-extensions in /usr/local/lib/python3.10/dist-packages (from qiskit-terra>=0.23.0->qiskit_dynamics) (4.5.0)\n",
      "Requirement already satisfied: mpmath>=0.19 in /usr/local/lib/python3.10/dist-packages (from sympy>=1.12->qiskit_dynamics) (1.3.0)\n",
      "Requirement already satisfied: six>=1.5 in /usr/local/lib/python3.10/dist-packages (from python-dateutil>=2.7->matplotlib>=3.0->qiskit_dynamics) (1.16.0)\n",
      "Requirement already satisfied: pbr!=2.1.0,>=2.0.0 in /usr/local/lib/python3.10/dist-packages (from stevedore>=3.0.0->qiskit-terra>=0.23.0->qiskit_dynamics) (5.11.1)\n",
      "Installing collected packages: multiset, qiskit_dynamics\n",
      "Successfully installed multiset-3.0.1 qiskit_dynamics-0.4.2\n",
      "Collecting qiskit-nature[pyscf]\n",
      "  Downloading qiskit_nature-0.6.2-py3-none-any.whl (4.1 MB)\n",
      "\u001b[2K     \u001b[90m━━━━━━━━━━━━━━━━━━━━━━━━━━━━━━━━━━━━━━━━\u001b[0m \u001b[32m4.1/4.1 MB\u001b[0m \u001b[31m33.0 MB/s\u001b[0m eta \u001b[36m0:00:00\u001b[0m\n",
      "\u001b[?25hRequirement already satisfied: qiskit-terra>=0.24 in /usr/local/lib/python3.10/dist-packages (from qiskit-nature[pyscf]) (0.25.1)\n",
      "Requirement already satisfied: scipy>=1.4 in /usr/local/lib/python3.10/dist-packages (from qiskit-nature[pyscf]) (1.11.3)\n",
      "Requirement already satisfied: numpy>=1.17 in /usr/local/lib/python3.10/dist-packages (from qiskit-nature[pyscf]) (1.23.5)\n",
      "Requirement already satisfied: psutil>=5 in /usr/local/lib/python3.10/dist-packages (from qiskit-nature[pyscf]) (5.9.5)\n",
      "Requirement already satisfied: scikit-learn>=0.20.0 in /usr/local/lib/python3.10/dist-packages (from qiskit-nature[pyscf]) (1.2.2)\n",
      "Requirement already satisfied: setuptools>=40.1.0 in /usr/local/lib/python3.10/dist-packages (from qiskit-nature[pyscf]) (67.7.2)\n",
      "Requirement already satisfied: typing-extensions in /usr/local/lib/python3.10/dist-packages (from qiskit-nature[pyscf]) (4.5.0)\n",
      "Requirement already satisfied: h5py in /usr/local/lib/python3.10/dist-packages (from qiskit-nature[pyscf]) (3.9.0)\n",
      "Requirement already satisfied: rustworkx in /usr/local/lib/python3.10/dist-packages (from qiskit-nature[pyscf]) (0.13.2)\n",
      "Collecting pyscf (from qiskit-nature[pyscf])\n",
      "  Downloading pyscf-2.3.0-cp310-cp310-manylinux_2_17_x86_64.manylinux2014_x86_64.whl (47.2 MB)\n",
      "\u001b[2K     \u001b[90m━━━━━━━━━━━━━━━━━━━━━━━━━━━━━━━━━━━━━━━━\u001b[0m \u001b[32m47.2/47.2 MB\u001b[0m \u001b[31m10.7 MB/s\u001b[0m eta \u001b[36m0:00:00\u001b[0m\n",
      "\u001b[?25hRequirement already satisfied: ply>=3.10 in /usr/local/lib/python3.10/dist-packages (from qiskit-terra>=0.24->qiskit-nature[pyscf]) (3.11)\n",
      "Requirement already satisfied: sympy>=1.3 in /usr/local/lib/python3.10/dist-packages (from qiskit-terra>=0.24->qiskit-nature[pyscf]) (1.12)\n",
      "Requirement already satisfied: dill>=0.3 in /usr/local/lib/python3.10/dist-packages (from qiskit-terra>=0.24->qiskit-nature[pyscf]) (0.3.7)\n",
      "Requirement already satisfied: python-dateutil>=2.8.0 in /usr/local/lib/python3.10/dist-packages (from qiskit-terra>=0.24->qiskit-nature[pyscf]) (2.8.2)\n",
      "Requirement already satisfied: stevedore>=3.0.0 in /usr/local/lib/python3.10/dist-packages (from qiskit-terra>=0.24->qiskit-nature[pyscf]) (5.1.0)\n",
      "Requirement already satisfied: symengine<0.10,>=0.9 in /usr/local/lib/python3.10/dist-packages (from qiskit-terra>=0.24->qiskit-nature[pyscf]) (0.9.2)\n",
      "Requirement already satisfied: joblib>=1.1.1 in /usr/local/lib/python3.10/dist-packages (from scikit-learn>=0.20.0->qiskit-nature[pyscf]) (1.3.2)\n",
      "Requirement already satisfied: threadpoolctl>=2.0.0 in /usr/local/lib/python3.10/dist-packages (from scikit-learn>=0.20.0->qiskit-nature[pyscf]) (3.2.0)\n",
      "Requirement already satisfied: six>=1.5 in /usr/local/lib/python3.10/dist-packages (from python-dateutil>=2.8.0->qiskit-terra>=0.24->qiskit-nature[pyscf]) (1.16.0)\n",
      "Requirement already satisfied: pbr!=2.1.0,>=2.0.0 in /usr/local/lib/python3.10/dist-packages (from stevedore>=3.0.0->qiskit-terra>=0.24->qiskit-nature[pyscf]) (5.11.1)\n",
      "Requirement already satisfied: mpmath>=0.19 in /usr/local/lib/python3.10/dist-packages (from sympy>=1.3->qiskit-terra>=0.24->qiskit-nature[pyscf]) (1.3.0)\n",
      "Installing collected packages: pyscf, qiskit-nature\n",
      "Successfully installed pyscf-2.3.0 qiskit-nature-0.6.2\n",
      "Requirement already satisfied: pyscf in /usr/local/lib/python3.10/dist-packages (2.3.0)\n",
      "Requirement already satisfied: numpy!=1.16,!=1.17,>=1.13 in /usr/local/lib/python3.10/dist-packages (from pyscf) (1.23.5)\n",
      "Requirement already satisfied: scipy!=1.5.0,!=1.5.1 in /usr/local/lib/python3.10/dist-packages (from pyscf) (1.11.3)\n",
      "Requirement already satisfied: h5py>=2.7 in /usr/local/lib/python3.10/dist-packages (from pyscf) (3.9.0)\n"
     ]
    }
   ],
   "source": [
    "!pip install qiskit\n",
    "!pip install qiskit_dynamics\n",
    "!pip install qiskit-nature[pyscf] -U\n",
    "!pip install pyscf"
   ]
  },
  {
   "cell_type": "markdown",
   "metadata": {
    "id": "PzaY9z5WRGBt"
   },
   "source": [
    "Quantum computers execute gate operations by deploying electromagnetic pulses at the hardware level. Differentiable Pulse Programming allows for the direct authoring of quantum algorithms at this foundational level. By variationally optimizing the shape, phase, and amplitude of the interactions, specific goals can be more precisely and effectively achieved. This meticulous control and adjustment of pulses can lead to a substantial improvement in algorithm performance and efficiency. Within the Qiskit framework, utilizing a pulse ansatz offers significant advantages over a gate ansatz. The pulse ansatz provides a higher degree of freedom and flexibility by allowing direct manipulation and optimization of the pulses. This heightened control translates into more efficient and noise-resilient quantum computations, offering a distinct advantage in addressing complex quantum algorithms and problems.\n",
    "\n",
    "In this tutorial we give an example that how to use the Qiskit Dynamics to implement a parameterized pulse ansatz to solve a VQE task. In particular, we demonstrate how to build up the parameterized pulse circuit on a DynamicsBackend to simulate pulse schedules, circuits whose gates have pulse definitions, and calibration and characterization experiments from Qiskit Experiments."
   ]
  },
  {
   "cell_type": "markdown",
   "metadata": {
    "id": "oDS1Ih70PHFd"
   },
   "source": [
    "# 1. Setup the DynamicBackend"
   ]
  },
  {
   "cell_type": "markdown",
   "metadata": {
    "id": "TDhzlEpMQOss"
   },
   "source": [
    "Note that we can import the backend configuration from a real machine to the DynamicsBackend, and we could use JAX to accelearate the simualtion progress, seethe User Guide entry on using JAX with Dynamics for more information."
   ]
  },
  {
   "cell_type": "code",
   "execution_count": 3,
   "metadata": {
    "colab": {
     "base_uri": "https://localhost:8080/"
    },
    "id": "kzlKnpVmMZf0",
    "outputId": "f64dcca4-74c2-44bb-dcbd-67e5bfb4d1c4"
   },
   "outputs": [],
   "source": [
    "from qiskit_dynamics import Solver, DynamicsBackend\n",
    "from qiskit_dynamics.backend import default_experiment_result_function\n",
    "from qiskit_dynamics.array import Array\n",
    "import jax\n",
    "from qiskit.providers.fake_provider import *\n",
    "from qiskit_ibm_runtime.fake_provider.backends.manila.fake_manila import FakeManila"
   ]
  },
  {
   "cell_type": "code",
   "execution_count": 7,
   "metadata": {
    "id": "URVwEUNJJuGF"
   },
   "outputs": [
    {
     "name": "stderr",
     "output_type": "stream",
     "text": [
      "/tmp/ipykernel_19089/4079635655.py:7: DeprecationWarning: V1 fake backends are deprecated as of qiskit-ibm-runtime 0.24 and will be removed no sooner than 3 months after the release date. Please use V2 fake backends instead.\n",
      "  gate_backend = FakeManila()\n"
     ]
    }
   ],
   "source": [
    "from qiskit_dynamics import Solver, DynamicsBackend\n",
    "from qiskit_dynamics.backend import default_experiment_result_function\n",
    "from qiskit_dynamics.array import Array\n",
    "import jax\n",
    "from qiskit.providers.fake_provider import *\n",
    "\n",
    "gate_backend = FakeManila()\n",
    "gate_backend.configuration().hamiltonian['qub'] = {'0': 2,'1': 2,'2': 2,'3': 2,'4': 2}\n",
    "jax.config.update(\"jax_enable_x64\", True)\n",
    "jax.config.update(\"jax_platform_name\", \"cpu\")\n",
    "Array.set_default_backend(\"jax\")\n",
    "# pulse_backend = DynamicsBackend.from_backend(gate_backend, evaluation_mode=\"sparse\")\n",
    "pulse_backend = DynamicsBackend.from_backend(gate_backend)\n",
    "solver_options = {\"method\": \"jax_odeint\", \"atol\": 1e-6, \"rtol\": 1e-8}\n",
    "pulse_backend.set_options(solver_options=solver_options)\n",
    "pulse_backend.configuration = lambda: gate_backend.configuration()"
   ]
  },
  {
   "cell_type": "code",
   "execution_count": 11,
   "metadata": {
    "colab": {
     "base_uri": "https://localhost:8080/",
     "height": 983
    },
    "id": "WbOajuAsIsrr",
    "outputId": "375f52b4-32d6-4d79-8b1f-97076b9346a1"
   },
   "outputs": [
    {
     "name": "stderr",
     "output_type": "stream",
     "text": [
      "/tmp/ipykernel_19089/2937372332.py:8: DeprecationWarning: The `transpile` function will stop supporting inputs of type `BackendV1` ( fake_manila ) in the `backend` parameter in a future release no earlier than 2.0. `BackendV1` is deprecated and implementations should move to `BackendV2`.\n",
      "  t_qc = transpile(qc_test, backend=gate_backend)\n"
     ]
    },
    {
     "data": {
      "image/png": "[encoded data removed]",
      "text/plain": [
       "<Figure size 1300x1050.58 with 1 Axes>"
      ]
     },
     "execution_count": 11,
     "metadata": {},
     "output_type": "execute_result"
    }
   ],
   "source": [
    "from qiskit import QuantumCircuit, pulse, transpile, schedule\n",
    "from qiskit_dynamics.backend import DynamicsBackend\n",
    "\n",
    "qc_test = QuantumCircuit(2)\n",
    "qc_test.h(0)\n",
    "qc_test.cx(0,1)\n",
    "qc_test.measure_all()\n",
    "t_qc = transpile(qc_test, backend=gate_backend)\n",
    "pulse_test = schedule(t_qc, backend=gate_backend)\n",
    "\n",
    "pulse_test.draw()"
   ]
  },
  {
   "cell_type": "code",
   "execution_count": 12,
   "metadata": {
    "id": "60fbSCQMFpWy"
   },
   "outputs": [
    {
     "name": "stderr",
     "output_type": "stream",
     "text": [
      "An NVIDIA GPU may be present on this machine, but a CUDA-enabled jaxlib is not installed. Falling back to cpu.\n",
      "/home/arthur/.conda/envs/pulseLearning/lib/python3.10/site-packages/qiskit_dynamics/solvers/solver_classes.py:525: UserWarning: Attempting to internally JAX-compile simulation of schedules, with Solver.model.array_library not in [\"numpy\", \"jax\", \"jax_sparse\"]. If an error is not raised, explicitly set array_library at Solver instantation to one of these options to remove this warning.\n",
      "  warn(\n"
     ]
    }
   ],
   "source": [
    "results = pulse_backend.run(pulse_test).result()\n",
    "counts = results.get_counts()"
   ]
  },
  {
   "cell_type": "code",
   "execution_count": 13,
   "metadata": {
    "colab": {
     "base_uri": "https://localhost:8080/"
    },
    "id": "f-wKJP70Fy8x",
    "outputId": "407cf836-8c93-4291-da52-598e1664330c"
   },
   "outputs": [
    {
     "name": "stdout",
     "output_type": "stream",
     "text": [
      "{np.str_('00'): np.int64(263), np.str_('01'): np.int64(28), np.str_('10'): np.int64(10), np.str_('11'): np.int64(723)}\n"
     ]
    }
   ],
   "source": [
    "print(counts)"
   ]
  },
  {
   "cell_type": "markdown",
   "metadata": {
    "id": "iSL2MfAceugO"
   },
   "source": [
    "# Variational quantum eigensolver with pulse ansatz\n"
   ]
  },
  {
   "cell_type": "markdown",
   "metadata": {
    "id": "_uYFhwrYeQjo"
   },
   "source": [
    "We now harness the capacity to execute the Variational Quantum Eigensolver (VQE) at the pulse level. For a comprehensive introduction to VQE, refer to 'A Brief Overview of VQE'. Initially, we outline the molecular Hamiltonian whose energy expectation value is to be minimized. This functions as our objective Hamiltonian. In this context, we employ H2 as a basic example for demonstration purposes."
   ]
  },
  {
   "cell_type": "code",
   "execution_count": 15,
   "metadata": {
    "colab": {
     "base_uri": "https://localhost:8080/"
    },
    "id": "aRA3-H1FR9Ga",
    "outputId": "d3c72ad7-e574-4ad0-fbe4-e91e209b9285"
   },
   "outputs": [],
   "source": [
    "from qiskit_nature.units import DistanceUnit\n",
    "from qiskit_nature.second_q.drivers import PySCFDriver\n",
    "from qiskit_nature.second_q.mappers import JordanWignerMapper,ParityMapper\n",
    "import numpy as np\n",
    "ultra_simplified_ala_string = \"\"\"\n",
    "H 0.0 0.0 0.0\n",
    "H 0.0 0.0 0.735\n",
    "\"\"\"\n",
    "\n",
    "driver = PySCFDriver(\n",
    "    atom=ultra_simplified_ala_string.strip(),\n",
    "    basis='sto3g',\n",
    "    charge=0,\n",
    "    spin=0,\n",
    "    unit=DistanceUnit.ANGSTROM\n",
    ")\n",
    "qmolecule = driver.run()"
   ]
  },
  {
   "cell_type": "code",
   "execution_count": 17,
   "metadata": {
    "colab": {
     "base_uri": "https://localhost:8080/"
    },
    "id": "uRidLQhSqAeh",
    "outputId": "1d359112-e10d-4fcd-fd3b-b78661bbe75c"
   },
   "outputs": [
    {
     "name": "stdout",
     "output_type": "stream",
     "text": [
      "SparsePauliOp(['IIII', 'IIIZ', 'IIZZ', 'IIZI', 'IZZI', 'IZZZ', 'ZZII', 'ZZIZ', 'ZXIX', 'IXZX', 'ZXZX', 'IXIX', 'IZIZ', 'ZZZZ', 'ZIZI'],\n",
      "              coeffs=[-0.81054798+0.j,  0.17218393+0.j, -0.22575349+0.j,  0.12091263+0.j,\n",
      "  0.17218393+0.j,  0.16892754+0.j, -0.22575349+0.j,  0.16614543+0.j,\n",
      "  0.0452328 +0.j, -0.0452328 +0.j, -0.0452328 +0.j,  0.0452328 +0.j,\n",
      "  0.16614543+0.j,  0.17464343+0.j,  0.12091263+0.j])\n"
     ]
    }
   ],
   "source": [
    "hamiltonian = qmolecule.hamiltonian\n",
    "coefficients = hamiltonian.electronic_integrals\n",
    "second_q_op = hamiltonian.second_q_op()\n",
    "mapper = ParityMapper()\n",
    "qubit_op = mapper.map(second_q_op)\n",
    "\n",
    "print(qubit_op)\n",
    "dict = {}\n",
    "for pauli, coeff in sorted(qubit_op.label_iter()):\n",
    "    str_info = pauli.__str__()\n",
    "    dict[str_info] = coeff.real.__str__()"
   ]
  },
  {
   "cell_type": "markdown",
   "metadata": {
    "id": "C-Q_0YLh29di"
   },
   "source": [
    "We adopt the native pulse as our basis pulses to establish the pulse circuit, since native pulses are well calibrated, we can safely use and modify the pulse shape with minimum energy leakage."
   ]
  },
  {
   "cell_type": "code",
   "execution_count": 18,
   "metadata": {
    "id": "rmbhjphErv5e"
   },
   "outputs": [],
   "source": [
    "from qiskit.pulse import Schedule, GaussianSquare, Drag, Delay, Play, ControlChannel, DriveChannel\n",
    "\n",
    "def drag_pulse(backend, amp, angle):\n",
    "  backend_defaults = backend.defaults()\n",
    "  inst_sched_map = backend_defaults.instruction_schedule_map\n",
    "  x_pulse = inst_sched_map.get('x', (0)).filter(channels = [DriveChannel(0)], instruction_types=[Play]).instructions[0][1].pulse\n",
    "  duration_parameter = x_pulse.parameters['duration']\n",
    "  sigma_parameter = x_pulse.parameters['sigma']\n",
    "  beta_parameter = x_pulse.parameters['beta']\n",
    "  pulse1 = Drag(duration=duration_parameter, sigma=sigma_parameter, beta=beta_parameter, amp=amp, angle=angle)\n",
    "  return pulse1\n",
    "\n",
    "def cr_pulse(backend, amp, angle, duration):\n",
    "  backend_defaults = backend.defaults()\n",
    "  inst_sched_map = backend_defaults.instruction_schedule_map\n",
    "  cr_pulse = inst_sched_map.get('cx', (0, 1)).filter(channels = [ControlChannel(0)], instruction_types=[Play]).instructions[0][1].pulse\n",
    "  cr_params = {}\n",
    "  cr_params['duration'] = cr_pulse.parameters['duration']\n",
    "  cr_params['amp'] = cr_pulse.parameters['amp']\n",
    "  cr_params['angle'] = cr_pulse.parameters['angle']\n",
    "  cr_params['sigma'] = cr_pulse.parameters['sigma']\n",
    "  cr_params['width'] = cr_pulse.parameters['width']\n",
    "  cr_risefall = (cr_params['duration'] - cr_params['width']) / (2 * cr_params['sigma'])\n",
    "  angle_parameter = angle\n",
    "  duration_parameter =  duration\n",
    "  sigma_parameter = cr_pulse.parameters['sigma']\n",
    "  width_parameter = int(duration_parameter - 2 * cr_risefall * cr_params['sigma'])\n",
    "  #declare pulse parameters and build GaussianSquare pulse\n",
    "  pulse1 = GaussianSquare(duration = duration_parameter, amp = amp, angle = angle_parameter, sigma = sigma_parameter, width=width_parameter)\n",
    "  return pulse1"
   ]
  },
  {
   "cell_type": "markdown",
   "metadata": {
    "id": "22HJyjkY3OPb"
   },
   "source": [
    "HE_pulse is inspired by hardware efficient ansatz on gate level, you can replace it with any custom pulse circuit."
   ]
  },
  {
   "cell_type": "code",
   "execution_count": 26,
   "metadata": {
    "id": "FxdKV-sbzTS4"
   },
   "outputs": [],
   "source": [
    "def HE_pulse(backend, amp, angle, width):\n",
    "    with pulse.build(backend) as my_program1:\n",
    "      # layer 1\n",
    "      sched_list = []\n",
    "      with pulse.build(backend) as sched1:\n",
    "          qubits = (0,1,2,3)\n",
    "          for i in range(4):\n",
    "              pulse.play(drag_pulse(backend, amp[i], angle[i]), DriveChannel(qubits[i]))\n",
    "      sched_list.append(sched1)\n",
    "\n",
    "      with pulse.build(backend) as sched2:\n",
    "          uchan = pulse.control_channels(0, 1)[0]\n",
    "          pulse.play(cr_pulse(backend,amp[4], angle[4], width[0]), uchan)\n",
    "      sched_list.append(sched2)\n",
    "\n",
    "\n",
    "      with pulse.build(backend) as sched4:\n",
    "          uchan = pulse.control_channels(1, 2)[0]\n",
    "          pulse.play(cr_pulse(backend, amp[5], angle[5], width[1]), uchan)\n",
    "      sched_list.append(sched4)\n",
    "\n",
    "      with pulse.build(backend) as sched6:\n",
    "          uchan = pulse.control_channels(2,3)[0]\n",
    "          pulse.play(cr_pulse(backend, amp[6],angle[6], width[2]), uchan)\n",
    "      sched_list.append(sched6)\n",
    "\n",
    "\n",
    "      with pulse.build(backend) as my_program:\n",
    "        with pulse.transpile_settings(initial_layout= [0,1,2,3]):\n",
    "          with pulse.align_sequential():\n",
    "              for sched in sched_list:\n",
    "                  pulse.call(sched)\n",
    "\n",
    "    return my_program"
   ]
  },
  {
   "cell_type": "markdown",
   "metadata": {
    "id": "FdP4VSdr5LaH"
   },
   "source": [
    "Here we build the observable for pulse-level VQE, you can do the calibration for X, Y observble for more accurate result by conduct calibration experiemnt via ibm-experiment, but since we do VQE on pulse level, the under-rotation or over-rotation should be migitated during the pulse tuning process."
   ]
  },
  {
   "cell_type": "code",
   "execution_count": 20,
   "metadata": {
    "id": "b9CsUHGQ3xhi"
   },
   "outputs": [],
   "source": [
    "import copy\n",
    "from scipy.optimize import minimize, LinearConstraint\n",
    "\n",
    "def measurement_pauli(prepulse, pauli_string, backend, n_qubit):\n",
    "    with pulse.build(backend) as pulse_measure:\n",
    "        pulse.call(copy.deepcopy(prepulse))\n",
    "        for ind,pauli in enumerate(pauli_string):\n",
    "            if(pauli=='X'):\n",
    "                pulse.u2(0, np.pi, ind)\n",
    "            if(pauli=='Y'):\n",
    "                pulse.u2(0, np.pi/2, ind)\n",
    "        for qubit in range(n_qubit):\n",
    "            pulse.barrier(qubit)\n",
    "        pulse.measure(range(n_qubit))\n",
    "    return pulse_measure\n",
    "\n",
    "def n_one(bitstring, key):\n",
    "    results = 0\n",
    "    for ind,b in enumerate(reversed(bitstring)):\n",
    "        if((b=='1')&(key[ind]!='I')):\n",
    "            results+=1\n",
    "    return results\n",
    "\n",
    "def expectation_value(counts,shots,key):\n",
    "    results = 0\n",
    "    for bitstring in counts:\n",
    "        if(n_one(bitstring, key)%2==1):\n",
    "            results -= counts[bitstring]/shots\n",
    "        else:\n",
    "            results += counts[bitstring]/shots\n",
    "    return results\n",
    "\n",
    "def run_pulse_sim(meas_pulse, key, pulse_backend, backend, n_shot):\n",
    "    results = pulse_backend.run(meas_pulse).result()\n",
    "    counts = results.get_counts()\n",
    "    expectation = expectation_value(counts,n_shot,key)\n",
    "    return expectation\n",
    "\n",
    "def gen_LC_vqe(parameters):\n",
    "    lb = np.zeros(parameters)\n",
    "    ub = np.ones(parameters)\n",
    "    LC = (LinearConstraint(np.eye(parameters),lb,ub,keep_feasible=False))\n",
    "    return LC"
   ]
  },
  {
   "cell_type": "code",
   "execution_count": 21,
   "metadata": {
    "id": "1MjE0Cem5aEA"
   },
   "outputs": [],
   "source": [
    "def vqe_one(prepulse,n_qubit,n_shot,pulse_backend, backend,key,value):\n",
    "    all_Is = True\n",
    "    for key_ele in key:\n",
    "        if(key_ele!='I'):\n",
    "            all_Is = False\n",
    "    if(all_Is):\n",
    "        return value\n",
    "    meas_pulse = measurement_pauli(prepulse=prepulse, pauli_string=key, backend=backend, n_qubit=n_qubit)\n",
    "    return value*run_pulse_sim(meas_pulse, key, pulse_backend, backend, n_shot)"
   ]
  },
  {
   "cell_type": "markdown",
   "metadata": {
    "id": "Xxh8zYku7qVm"
   },
   "source": [
    "Here we determine the main fuction of pulse level VQE. And we import the multiprocessing as a option to accelerate the VQE solving process."
   ]
  },
  {
   "cell_type": "code",
   "execution_count": 22,
   "metadata": {
    "id": "ffGZYtM55a4Z"
   },
   "outputs": [],
   "source": [
    "def vqe(params,pauli_dict,pulse_backend, backend,n_qubit,n_shot):\n",
    "    print(\"params in def chemistry in vqe.py: \", params)\n",
    "    # assert(len(params)%2==0)\n",
    "    width_len = int(len(params)-1*(n_qubit-1))\n",
    "    split_ind = int(width_len/2)\n",
    "    amp = np.array(params[:split_ind])\n",
    "    angle = np.array(params[split_ind:width_len])*np.pi*2\n",
    "    width_1 = (np.array(params[width_len:]))\n",
    "    num_items = (1024 - 256) // 16 + 1\n",
    "    width_norm = (width_1 - 256) / (1024 - 256)\n",
    "    width_norm = np.clip(width_norm, 0, 1)\n",
    "    width = (np.round(width_norm * (num_items - 1)) * 16 + 256).astype(int)\n",
    "    amp = amp.tolist()\n",
    "    angle = angle.tolist()\n",
    "    width = width.tolist()\n",
    "    keys = [key for key in pauli_dict]\n",
    "    values = [pauli_dict[key] for key in pauli_dict]\n",
    "    expect_values = []\n",
    "\n",
    "    for key, value in zip(keys, values):\n",
    "        prepulse = HE_pulse(backend, amp, angle, width)\n",
    "        expect = vqe_one(prepulse, n_qubit, n_shot, pulse_backend, backend, key, value)\n",
    "        expect_values.append(expect)\n",
    "    print(\"E for cur_iter: \",sum(expect_values))\n",
    "    return sum(expect_values)"
   ]
  },
  {
   "cell_type": "code",
   "execution_count": 27,
   "metadata": {
    "colab": {
     "base_uri": "https://localhost:8080/"
    },
    "id": "ZVZuXfx_8CVl",
    "outputId": "3998ac01-3e9e-45d4-9d8a-c99e87a1f295"
   },
   "outputs": [
    {
     "name": "stdout",
     "output_type": "stream",
     "text": [
      "params in def chemistry in vqe.py:  [0. 0. 0. 0. 0. 0. 0. 0. 0. 0. 0. 0. 0. 0. 0. 0. 0.]\n"
     ]
    },
    {
     "ename": "TypeError",
     "evalue": "transpile() missing 1 required positional argument: 'circuits'",
     "output_type": "error",
     "traceback": [
      "\u001b[0;31m---------------------------------------------------------------------------\u001b[0m",
      "\u001b[0;31mTypeError\u001b[0m                                 Traceback (most recent call last)",
      "Cell \u001b[0;32mIn[27], line 7\u001b[0m\n\u001b[1;32m      5\u001b[0m n_shot \u001b[38;5;241m=\u001b[39m \u001b[38;5;241m1024\u001b[39m\n\u001b[1;32m      6\u001b[0m optimizer \u001b[38;5;241m=\u001b[39m \u001b[38;5;124m'\u001b[39m\u001b[38;5;124mCOBYLA\u001b[39m\u001b[38;5;124m'\u001b[39m\n\u001b[0;32m----> 7\u001b[0m vqe_res \u001b[38;5;241m=\u001b[39m \u001b[43mminimize\u001b[49m\u001b[43m(\u001b[49m\u001b[43mvqe\u001b[49m\u001b[43m,\u001b[49m\u001b[43mparams\u001b[49m\u001b[43m,\u001b[49m\u001b[43margs\u001b[49m\u001b[38;5;241;43m=\u001b[39;49m\u001b[43m(\u001b[49m\u001b[38;5;28;43mdict\u001b[39;49m\u001b[43m,\u001b[49m\u001b[43mpulse_backend\u001b[49m\u001b[43m,\u001b[49m\u001b[43m \u001b[49m\u001b[43mgate_backend\u001b[49m\u001b[43m,\u001b[49m\u001b[43mn_qubit\u001b[49m\u001b[43m,\u001b[49m\u001b[43m \u001b[49m\u001b[43mn_shot\u001b[49m\u001b[43m)\u001b[49m\u001b[43m,\u001b[49m\u001b[43mmethod\u001b[49m\u001b[38;5;241;43m=\u001b[39;49m\u001b[43moptimizer\u001b[49m\u001b[43m,\u001b[49m\n\u001b[1;32m      8\u001b[0m \u001b[43m                    \u001b[49m\u001b[43mconstraints\u001b[49m\u001b[38;5;241;43m=\u001b[39;49m\u001b[43mLC\u001b[49m\u001b[43m,\u001b[49m\u001b[43moptions\u001b[49m\u001b[38;5;241;43m=\u001b[39;49m\u001b[43m{\u001b[49m\u001b[38;5;124;43m'\u001b[39;49m\u001b[38;5;124;43mrhobeg\u001b[39;49m\u001b[38;5;124;43m'\u001b[39;49m\u001b[43m:\u001b[49m\u001b[38;5;241;43m0.2\u001b[39;49m\u001b[43m,\u001b[49m\u001b[38;5;124;43m'\u001b[39;49m\u001b[38;5;124;43mmaxiter\u001b[39;49m\u001b[38;5;124;43m'\u001b[39;49m\u001b[43m:\u001b[49m\u001b[38;5;241;43m70\u001b[39;49m\u001b[43m,\u001b[49m\u001b[38;5;124;43m'\u001b[39;49m\u001b[38;5;124;43mdisp\u001b[39;49m\u001b[38;5;124;43m'\u001b[39;49m\u001b[43m:\u001b[49m\u001b[38;5;28;43;01mTrue\u001b[39;49;00m\u001b[43m}\u001b[49m\u001b[43m)\u001b[49m\n\u001b[1;32m      9\u001b[0m \u001b[38;5;28mprint\u001b[39m(\u001b[38;5;28mdict\u001b[39m)\n\u001b[1;32m     10\u001b[0m \u001b[38;5;28mprint\u001b[39m(\u001b[38;5;124m'\u001b[39m\u001b[38;5;124mThe optimized loss func value: \u001b[39m\u001b[38;5;132;01m{}\u001b[39;00m\u001b[38;5;124m'\u001b[39m\u001b[38;5;241m.\u001b[39mformat(vqe_res\u001b[38;5;241m.\u001b[39mfun))\n",
      "File \u001b[0;32m~/.conda/envs/pulseLearning/lib/python3.10/site-packages/scipy/optimize/_minimize.py:737\u001b[0m, in \u001b[0;36mminimize\u001b[0;34m(fun, x0, args, method, jac, hess, hessp, bounds, constraints, tol, callback, options)\u001b[0m\n\u001b[1;32m    734\u001b[0m     res \u001b[38;5;241m=\u001b[39m _minimize_tnc(fun, x0, args, jac, bounds, callback\u001b[38;5;241m=\u001b[39mcallback,\n\u001b[1;32m    735\u001b[0m                         \u001b[38;5;241m*\u001b[39m\u001b[38;5;241m*\u001b[39moptions)\n\u001b[1;32m    736\u001b[0m \u001b[38;5;28;01melif\u001b[39;00m meth \u001b[38;5;241m==\u001b[39m \u001b[38;5;124m'\u001b[39m\u001b[38;5;124mcobyla\u001b[39m\u001b[38;5;124m'\u001b[39m:\n\u001b[0;32m--> 737\u001b[0m     res \u001b[38;5;241m=\u001b[39m \u001b[43m_minimize_cobyla\u001b[49m\u001b[43m(\u001b[49m\u001b[43mfun\u001b[49m\u001b[43m,\u001b[49m\u001b[43m \u001b[49m\u001b[43mx0\u001b[49m\u001b[43m,\u001b[49m\u001b[43m \u001b[49m\u001b[43margs\u001b[49m\u001b[43m,\u001b[49m\u001b[43m \u001b[49m\u001b[43mconstraints\u001b[49m\u001b[43m,\u001b[49m\u001b[43m \u001b[49m\u001b[43mcallback\u001b[49m\u001b[38;5;241;43m=\u001b[39;49m\u001b[43mcallback\u001b[49m\u001b[43m,\u001b[49m\n\u001b[1;32m    738\u001b[0m \u001b[43m                           \u001b[49m\u001b[43mbounds\u001b[49m\u001b[38;5;241;43m=\u001b[39;49m\u001b[43mbounds\u001b[49m\u001b[43m,\u001b[49m\u001b[43m \u001b[49m\u001b[38;5;241;43m*\u001b[39;49m\u001b[38;5;241;43m*\u001b[39;49m\u001b[43moptions\u001b[49m\u001b[43m)\u001b[49m\n\u001b[1;32m    739\u001b[0m \u001b[38;5;28;01melif\u001b[39;00m meth \u001b[38;5;241m==\u001b[39m \u001b[38;5;124m'\u001b[39m\u001b[38;5;124mcobyqa\u001b[39m\u001b[38;5;124m'\u001b[39m:\n\u001b[1;32m    740\u001b[0m     res \u001b[38;5;241m=\u001b[39m _minimize_cobyqa(fun, x0, args, bounds, constraints, callback,\n\u001b[1;32m    741\u001b[0m                            \u001b[38;5;241m*\u001b[39m\u001b[38;5;241m*\u001b[39moptions)\n",
      "File \u001b[0;32m~/.conda/envs/pulseLearning/lib/python3.10/site-packages/scipy/optimize/_cobyla_py.py:35\u001b[0m, in \u001b[0;36msynchronized.<locals>.wrapper\u001b[0;34m(*args, **kwargs)\u001b[0m\n\u001b[1;32m     32\u001b[0m \u001b[38;5;129m@functools\u001b[39m\u001b[38;5;241m.\u001b[39mwraps(func)\n\u001b[1;32m     33\u001b[0m \u001b[38;5;28;01mdef\u001b[39;00m \u001b[38;5;21mwrapper\u001b[39m(\u001b[38;5;241m*\u001b[39margs, \u001b[38;5;241m*\u001b[39m\u001b[38;5;241m*\u001b[39mkwargs):\n\u001b[1;32m     34\u001b[0m     \u001b[38;5;28;01mwith\u001b[39;00m _module_lock:\n\u001b[0;32m---> 35\u001b[0m         \u001b[38;5;28;01mreturn\u001b[39;00m \u001b[43mfunc\u001b[49m\u001b[43m(\u001b[49m\u001b[38;5;241;43m*\u001b[39;49m\u001b[43margs\u001b[49m\u001b[43m,\u001b[49m\u001b[43m \u001b[49m\u001b[38;5;241;43m*\u001b[39;49m\u001b[38;5;241;43m*\u001b[39;49m\u001b[43mkwargs\u001b[49m\u001b[43m)\u001b[49m\n",
      "File \u001b[0;32m~/.conda/envs/pulseLearning/lib/python3.10/site-packages/scipy/optimize/_cobyla_py.py:278\u001b[0m, in \u001b[0;36m_minimize_cobyla\u001b[0;34m(fun, x0, args, constraints, rhobeg, tol, maxiter, disp, catol, callback, bounds, **unknown_options)\u001b[0m\n\u001b[1;32m    275\u001b[0m \u001b[38;5;28;01mdef\u001b[39;00m \u001b[38;5;21m_jac\u001b[39m(x, \u001b[38;5;241m*\u001b[39margs):\n\u001b[1;32m    276\u001b[0m     \u001b[38;5;28;01mreturn\u001b[39;00m \u001b[38;5;28;01mNone\u001b[39;00m\n\u001b[0;32m--> 278\u001b[0m sf \u001b[38;5;241m=\u001b[39m \u001b[43m_prepare_scalar_function\u001b[49m\u001b[43m(\u001b[49m\u001b[43mfun\u001b[49m\u001b[43m,\u001b[49m\u001b[43m \u001b[49m\u001b[43mx0\u001b[49m\u001b[43m,\u001b[49m\u001b[43m \u001b[49m\u001b[43margs\u001b[49m\u001b[38;5;241;43m=\u001b[39;49m\u001b[43margs\u001b[49m\u001b[43m,\u001b[49m\u001b[43m \u001b[49m\u001b[43mjac\u001b[49m\u001b[38;5;241;43m=\u001b[39;49m\u001b[43m_jac\u001b[49m\u001b[43m)\u001b[49m\n\u001b[1;32m    280\u001b[0m \u001b[38;5;28;01mdef\u001b[39;00m \u001b[38;5;21mcalcfc\u001b[39m(x, con):\n\u001b[1;32m    281\u001b[0m     f \u001b[38;5;241m=\u001b[39m sf\u001b[38;5;241m.\u001b[39mfun(x)\n",
      "File \u001b[0;32m~/.conda/envs/pulseLearning/lib/python3.10/site-packages/scipy/optimize/_optimize.py:288\u001b[0m, in \u001b[0;36m_prepare_scalar_function\u001b[0;34m(fun, x0, jac, args, bounds, epsilon, finite_diff_rel_step, hess)\u001b[0m\n\u001b[1;32m    284\u001b[0m     bounds \u001b[38;5;241m=\u001b[39m (\u001b[38;5;241m-\u001b[39mnp\u001b[38;5;241m.\u001b[39minf, np\u001b[38;5;241m.\u001b[39minf)\n\u001b[1;32m    286\u001b[0m \u001b[38;5;66;03m# ScalarFunction caches. Reuse of fun(x) during grad\u001b[39;00m\n\u001b[1;32m    287\u001b[0m \u001b[38;5;66;03m# calculation reduces overall function evaluations.\u001b[39;00m\n\u001b[0;32m--> 288\u001b[0m sf \u001b[38;5;241m=\u001b[39m \u001b[43mScalarFunction\u001b[49m\u001b[43m(\u001b[49m\u001b[43mfun\u001b[49m\u001b[43m,\u001b[49m\u001b[43m \u001b[49m\u001b[43mx0\u001b[49m\u001b[43m,\u001b[49m\u001b[43m \u001b[49m\u001b[43margs\u001b[49m\u001b[43m,\u001b[49m\u001b[43m \u001b[49m\u001b[43mgrad\u001b[49m\u001b[43m,\u001b[49m\u001b[43m \u001b[49m\u001b[43mhess\u001b[49m\u001b[43m,\u001b[49m\n\u001b[1;32m    289\u001b[0m \u001b[43m                    \u001b[49m\u001b[43mfinite_diff_rel_step\u001b[49m\u001b[43m,\u001b[49m\u001b[43m \u001b[49m\u001b[43mbounds\u001b[49m\u001b[43m,\u001b[49m\u001b[43m \u001b[49m\u001b[43mepsilon\u001b[49m\u001b[38;5;241;43m=\u001b[39;49m\u001b[43mepsilon\u001b[49m\u001b[43m)\u001b[49m\n\u001b[1;32m    291\u001b[0m \u001b[38;5;28;01mreturn\u001b[39;00m sf\n",
      "File \u001b[0;32m~/.conda/envs/pulseLearning/lib/python3.10/site-packages/scipy/optimize/_differentiable_functions.py:222\u001b[0m, in \u001b[0;36mScalarFunction.__init__\u001b[0;34m(self, fun, x0, args, grad, hess, finite_diff_rel_step, finite_diff_bounds, epsilon)\u001b[0m\n\u001b[1;32m    219\u001b[0m     finite_diff_options[\u001b[38;5;124m\"\u001b[39m\u001b[38;5;124mas_linear_operator\u001b[39m\u001b[38;5;124m\"\u001b[39m] \u001b[38;5;241m=\u001b[39m \u001b[38;5;28;01mTrue\u001b[39;00m\n\u001b[1;32m    221\u001b[0m \u001b[38;5;66;03m# Initial function evaluation\u001b[39;00m\n\u001b[0;32m--> 222\u001b[0m \u001b[38;5;28;43mself\u001b[39;49m\u001b[38;5;241;43m.\u001b[39;49m\u001b[43m_update_fun\u001b[49m\u001b[43m(\u001b[49m\u001b[43m)\u001b[49m\n\u001b[1;32m    224\u001b[0m \u001b[38;5;66;03m# Initial gradient evaluation\u001b[39;00m\n\u001b[1;32m    225\u001b[0m \u001b[38;5;28mself\u001b[39m\u001b[38;5;241m.\u001b[39m_wrapped_grad, \u001b[38;5;28mself\u001b[39m\u001b[38;5;241m.\u001b[39m_ngev \u001b[38;5;241m=\u001b[39m _wrapper_grad(\n\u001b[1;32m    226\u001b[0m     grad,\n\u001b[1;32m    227\u001b[0m     fun\u001b[38;5;241m=\u001b[39m\u001b[38;5;28mself\u001b[39m\u001b[38;5;241m.\u001b[39m_wrapped_fun,\n\u001b[1;32m    228\u001b[0m     args\u001b[38;5;241m=\u001b[39margs,\n\u001b[1;32m    229\u001b[0m     finite_diff_options\u001b[38;5;241m=\u001b[39mfinite_diff_options\n\u001b[1;32m    230\u001b[0m )\n",
      "File \u001b[0;32m~/.conda/envs/pulseLearning/lib/python3.10/site-packages/scipy/optimize/_differentiable_functions.py:294\u001b[0m, in \u001b[0;36mScalarFunction._update_fun\u001b[0;34m(self)\u001b[0m\n\u001b[1;32m    292\u001b[0m \u001b[38;5;28;01mdef\u001b[39;00m \u001b[38;5;21m_update_fun\u001b[39m(\u001b[38;5;28mself\u001b[39m):\n\u001b[1;32m    293\u001b[0m     \u001b[38;5;28;01mif\u001b[39;00m \u001b[38;5;129;01mnot\u001b[39;00m \u001b[38;5;28mself\u001b[39m\u001b[38;5;241m.\u001b[39mf_updated:\n\u001b[0;32m--> 294\u001b[0m         fx \u001b[38;5;241m=\u001b[39m \u001b[38;5;28;43mself\u001b[39;49m\u001b[38;5;241;43m.\u001b[39;49m\u001b[43m_wrapped_fun\u001b[49m\u001b[43m(\u001b[49m\u001b[38;5;28;43mself\u001b[39;49m\u001b[38;5;241;43m.\u001b[39;49m\u001b[43mx\u001b[49m\u001b[43m)\u001b[49m\n\u001b[1;32m    295\u001b[0m         \u001b[38;5;28;01mif\u001b[39;00m fx \u001b[38;5;241m<\u001b[39m \u001b[38;5;28mself\u001b[39m\u001b[38;5;241m.\u001b[39m_lowest_f:\n\u001b[1;32m    296\u001b[0m             \u001b[38;5;28mself\u001b[39m\u001b[38;5;241m.\u001b[39m_lowest_x \u001b[38;5;241m=\u001b[39m \u001b[38;5;28mself\u001b[39m\u001b[38;5;241m.\u001b[39mx\n",
      "File \u001b[0;32m~/.conda/envs/pulseLearning/lib/python3.10/site-packages/scipy/optimize/_differentiable_functions.py:20\u001b[0m, in \u001b[0;36m_wrapper_fun.<locals>.wrapped\u001b[0;34m(x)\u001b[0m\n\u001b[1;32m     16\u001b[0m ncalls[\u001b[38;5;241m0\u001b[39m] \u001b[38;5;241m+\u001b[39m\u001b[38;5;241m=\u001b[39m \u001b[38;5;241m1\u001b[39m\n\u001b[1;32m     17\u001b[0m \u001b[38;5;66;03m# Send a copy because the user may overwrite it.\u001b[39;00m\n\u001b[1;32m     18\u001b[0m \u001b[38;5;66;03m# Overwriting results in undefined behaviour because\u001b[39;00m\n\u001b[1;32m     19\u001b[0m \u001b[38;5;66;03m# fun(self.x) will change self.x, with the two no longer linked.\u001b[39;00m\n\u001b[0;32m---> 20\u001b[0m fx \u001b[38;5;241m=\u001b[39m \u001b[43mfun\u001b[49m\u001b[43m(\u001b[49m\u001b[43mnp\u001b[49m\u001b[38;5;241;43m.\u001b[39;49m\u001b[43mcopy\u001b[49m\u001b[43m(\u001b[49m\u001b[43mx\u001b[49m\u001b[43m)\u001b[49m\u001b[43m,\u001b[49m\u001b[43m \u001b[49m\u001b[38;5;241;43m*\u001b[39;49m\u001b[43margs\u001b[49m\u001b[43m)\u001b[49m\n\u001b[1;32m     21\u001b[0m \u001b[38;5;66;03m# Make sure the function returns a true scalar\u001b[39;00m\n\u001b[1;32m     22\u001b[0m \u001b[38;5;28;01mif\u001b[39;00m \u001b[38;5;129;01mnot\u001b[39;00m np\u001b[38;5;241m.\u001b[39misscalar(fx):\n",
      "Cell \u001b[0;32mIn[22], line 21\u001b[0m, in \u001b[0;36mvqe\u001b[0;34m(params, pauli_dict, pulse_backend, backend, n_qubit, n_shot)\u001b[0m\n\u001b[1;32m     18\u001b[0m expect_values \u001b[38;5;241m=\u001b[39m []\n\u001b[1;32m     20\u001b[0m \u001b[38;5;28;01mfor\u001b[39;00m key, value \u001b[38;5;129;01min\u001b[39;00m \u001b[38;5;28mzip\u001b[39m(keys, values):\n\u001b[0;32m---> 21\u001b[0m     prepulse \u001b[38;5;241m=\u001b[39m \u001b[43mHE_pulse\u001b[49m\u001b[43m(\u001b[49m\u001b[43mbackend\u001b[49m\u001b[43m,\u001b[49m\u001b[43m \u001b[49m\u001b[43mamp\u001b[49m\u001b[43m,\u001b[49m\u001b[43m \u001b[49m\u001b[43mangle\u001b[49m\u001b[43m,\u001b[49m\u001b[43m \u001b[49m\u001b[43mwidth\u001b[49m\u001b[43m)\u001b[49m\n\u001b[1;32m     22\u001b[0m     expect \u001b[38;5;241m=\u001b[39m vqe_one(prepulse, n_qubit, n_shot, pulse_backend, backend, key, value)\n\u001b[1;32m     23\u001b[0m     expect_values\u001b[38;5;241m.\u001b[39mappend(expect)\n",
      "Cell \u001b[0;32mIn[26], line 29\u001b[0m, in \u001b[0;36mHE_pulse\u001b[0;34m(backend, amp, angle, width)\u001b[0m\n\u001b[1;32m     25\u001b[0m sched_list\u001b[38;5;241m.\u001b[39mappend(sched6)\n\u001b[1;32m     28\u001b[0m \u001b[38;5;28;01mwith\u001b[39;00m pulse\u001b[38;5;241m.\u001b[39mbuild(backend) \u001b[38;5;28;01mas\u001b[39;00m my_program:\n\u001b[0;32m---> 29\u001b[0m   \u001b[38;5;28;01mwith\u001b[39;00m \u001b[43mtranspile\u001b[49m\u001b[43m(\u001b[49m\u001b[43minitial_layout\u001b[49m\u001b[38;5;241;43m=\u001b[39;49m\u001b[43m \u001b[49m\u001b[43m[\u001b[49m\u001b[38;5;241;43m0\u001b[39;49m\u001b[43m,\u001b[49m\u001b[38;5;241;43m1\u001b[39;49m\u001b[43m,\u001b[49m\u001b[38;5;241;43m2\u001b[39;49m\u001b[43m,\u001b[49m\u001b[38;5;241;43m3\u001b[39;49m\u001b[43m]\u001b[49m\u001b[43m)\u001b[49m:\n\u001b[1;32m     30\u001b[0m     \u001b[38;5;28;01mwith\u001b[39;00m pulse\u001b[38;5;241m.\u001b[39malign_sequential():\n\u001b[1;32m     31\u001b[0m         \u001b[38;5;28;01mfor\u001b[39;00m sched \u001b[38;5;129;01min\u001b[39;00m sched_list:\n",
      "\u001b[0;31mTypeError\u001b[0m: transpile() missing 1 required positional argument: 'circuits'"
     ]
    }
   ],
   "source": [
    "n_qubit = 4\n",
    "parameters = 17\n",
    "params = np.zeros(parameters)\n",
    "LC = gen_LC_vqe(parameters)\n",
    "n_shot = 1024\n",
    "optimizer = 'COBYLA'\n",
    "vqe_res = minimize(vqe,params,args=(dict,pulse_backend, gate_backend,n_qubit, n_shot),method=optimizer,\n",
    "                    constraints=LC,options={'rhobeg':0.2,'maxiter':70,'disp':True})\n",
    "print(dict)\n",
    "print('The optimized loss func value: {}'.format(vqe_res.fun))"
   ]
  },
  {
   "cell_type": "code",
   "execution_count": null,
   "metadata": {},
   "outputs": [],
   "source": []
  }
 ],
 "metadata": {
  "colab": {
   "provenance": []
  },
  "kernelspec": {
   "display_name": "Python 3 (ipykernel)",
   "language": "python",
   "name": "python3"
  },
  "language_info": {
   "codemirror_mode": {
    "name": "ipython",
    "version": 3
   },
   "file_extension": ".py",
   "mimetype": "text/x-python",
   "name": "python",
   "nbconvert_exporter": "python",
   "pygments_lexer": "ipython3",
   "version": "3.10.15"
  }
 },
 "nbformat": 4,
 "nbformat_minor": 4
}
